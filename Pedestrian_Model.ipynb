{
 "cells": [
  {
   "cell_type": "markdown",
   "metadata": {},
   "source": [
    "# Pedestrian Model"
   ]
  },
  {
   "cell_type": "markdown",
   "metadata": {},
   "source": [
    "author : ZJun\n",
    "\n",
    "date : 2016-11-04 "
   ]
  },
  {
   "cell_type": "markdown",
   "metadata": {},
   "source": [
    "### 思路来源：\n",
    "\n",
    "傍晚闲着无聊在寝室阳台上看楼下的风景，楼下的行人来来往往，这再普通不过的事却让今天的我看得入迷。每个人都向着自己的目的地前进，基于每个时刻的状态，每个人都能“娴熟地”避开迎面而来或者侧面出现的行人或者车辆，有时采取等待的策略，有时采取改变方向的策略，整个过程有条不紊，当然有时候也会有些小意外，不过今天我没遇见。\n",
    "\n",
    "基于这个场景我便想是否能通过模拟的方式来查看下，在这样的一个系统下，环境中的各种因素是如何影响某个个体通向他的目的地的\n",
    "- 影响因素：目前主要考虑其他个体的行为\n",
    "- 影响方式：考虑个体到达目的地的路径与时间\n"
   ]
  },
  {
   "cell_type": "markdown",
   "metadata": {},
   "source": [
    "----"
   ]
  },
  {
   "cell_type": "markdown",
   "metadata": {
    "collapsed": true
   },
   "source": [
    "有了基本的想法之后，需要考虑的就是用什么去模拟，移动中的个体都有各自的属性，所以不妨设定一个类对象 MoveObject，之后可以在其下设定子类比如人、汽车、自行车等"
   ]
  },
  {
   "cell_type": "code",
   "execution_count": 3,
   "metadata": {
    "collapsed": false
   },
   "outputs": [],
   "source": [
    "class MoveObject(object):\n",
    "    def __init__(self,ID):\n",
    "        pass"
   ]
  },
  {
   "cell_type": "markdown",
   "metadata": {},
   "source": [
    "可以考虑以下属性：\n",
    "\n",
    "|属性|案例|备注|\n",
    "|-----|-------|----|\n",
    "|对象的id值|Id||\n",
    "|当前坐标值|$[x,y]$|每个时刻调整|\n",
    "|目的地坐标|$(x_{des},y_{des})$|一般而言固定|\n",
    "|移动路径|$[[x_1,y_1],stay,[x_2,y_2]]$ |每个时刻可以移动也可以等待，用于记录|\n",
    "|移动的方向| $(dire_1,dire_2)$|尽可能指向目的地，单位向量|\n",
    "|每个时间t移动的距离|L|等效于移动速度|"
   ]
  },
  {
   "cell_type": "markdown",
   "metadata": {},
   "source": [
    "于是可以初步定义我们的对象"
   ]
  },
  {
   "cell_type": "code",
   "execution_count": 4,
   "metadata": {
    "collapsed": true
   },
   "outputs": [],
   "source": [
    "class MoveObject(object):\n",
    "    def __init__(self,Id):\n",
    "        self.id = Id\n",
    "        self.pos = [0,0]\n",
    "        slef.destination = (0,0)\n",
    "        self.move_list = []\n",
    "        self.direction = [0,0]\n",
    "        self.pace = 1 "
   ]
  },
  {
   "cell_type": "markdown",
   "metadata": {},
   "source": [
    "有了对象之后，我们就需要考虑对象的移动,建立一个移动函数"
   ]
  },
  {
   "cell_type": "code",
   "execution_count": 7,
   "metadata": {
    "collapsed": true
   },
   "outputs": [],
   "source": [
    "class MoveObject(object):\n",
    "    def __init__(self,Id):\n",
    "        self.id = Id\n",
    "        self.pos = [0,0]\n",
    "        slef.destination = (0,0)\n",
    "        self.move_list = []\n",
    "        self.direction = [0,0]\n",
    "        self.pace = 1 \n",
    "    def move(self):\n",
    "        pass"
   ]
  },
  {
   "cell_type": "markdown",
   "metadata": {},
   "source": [
    "假定每个对象移动都有一个**最优化目标**：在没有碰撞的情况下，最快速度到达目的地\n",
    "\n",
    "因此在进一步设计对象的行动前，我们需要先定义考虑**碰撞**这个问题"
   ]
  },
  {
   "cell_type": "markdown",
   "metadata": {},
   "source": [
    "在现实中，为了避免碰撞，我们通常会去基于离自己比较近的一些人的移动情况来作出自己下一步如何行动的判断\n",
    "\n",
    "所以我们可以设定一个警惕距离记为$d_{alert}$ , 对于每个移动对象，考虑在这个警惕距离邻域内的其他对象的属性"
   ]
  },
  {
   "cell_type": "markdown",
   "metadata": {},
   "source": [
    "示意图如下：\n",
    "\n",
    "![](http://ww3.sinaimg.cn/large/006tNc79jw1f9gd3wxgg4j30t70mfwgi.jpg)"
   ]
  },
  {
   "cell_type": "markdown",
   "metadata": {},
   "source": [
    "上图中，1号是我们要当前要考察的对象，虚线内的区域是1号以$d_{arert}$为半径的邻域，可以看到2、3、4、5号落入其中\n",
    "\n",
    "2、3、4、5号连接的实心箭头是他们上一时刻的移动方向(1可以观察到)，与其颜色对应的虚线箭头是将它们的上一时刻的移动方向向量做个平移，与其颜色对应的点划线箭头是1号指向他们的方向向量，由后两个向量围起来的区域，即图中的紫色、蓝色、绿色、粉色区域，是1号的潜在危险区域（危险最小化考虑）\n",
    "\n",
    "因而图中剩下没有被覆盖的黄色区域就是1号的安全区域（这样的区域不一定只有一块，如若有多块，每块都按以下步骤处理）"
   ]
  },
  {
   "cell_type": "markdown",
   "metadata": {},
   "source": [
    "- 作黄色区域的中轴线，依据中轴线得到一个90度的区域，如图中灰色所示\n",
    "- 如果1号的目的地在灰色区域所涵盖的角度内，那么从黄色区域选择一个方向，使得这个方向的与1号指向目的地的方向角度最小\n",
    "- 如果1号的目的地不在灰色区域所涵盖的角度内，那么这个时刻，1号选择停止不动 \n",
    "    - 此处可以考虑最长等待时间，如果超过，即使安全方向与目的地方向偏离，我们也采取行动\n"
   ]
  },
  {
   "cell_type": "markdown",
   "metadata": {},
   "source": [
    "### 未完待续"
   ]
  },
  {
   "cell_type": "markdown",
   "metadata": {},
   "source": [
    "最近较忙，今天就先写到这，具体代码实现应该也不是太困难，之后抽空再写一写"
   ]
  }
 ],
 "metadata": {
  "anaconda-cloud": {},
  "kernelspec": {
   "display_name": "Python [Root]",
   "language": "python",
   "name": "Python [Root]"
  },
  "language_info": {
   "codemirror_mode": {
    "name": "ipython",
    "version": 2
   },
   "file_extension": ".py",
   "mimetype": "text/x-python",
   "name": "python",
   "nbconvert_exporter": "python",
   "pygments_lexer": "ipython2",
   "version": "2.7.12"
  }
 },
 "nbformat": 4,
 "nbformat_minor": 0
}
